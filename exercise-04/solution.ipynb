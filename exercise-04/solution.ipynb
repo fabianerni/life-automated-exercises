{
 "cells": [
  {
   "cell_type": "markdown",
   "id": "379fd652",
   "metadata": {},
   "source": [
    "# Exercise 4\n",
    "\n",
    "Welcome to the fourth challenge! The goal of this exercise is to generate a Pub Quiz Crew that can automatically generate pub quiz questions based on random wikipedia articles. Have fun!\n",
    "\n",
    "## Setup\n",
    "Let's start by importing the libraries that we will need."
   ]
  },
  {
   "cell_type": "code",
   "execution_count": null,
   "id": "60f954b2-f848-4a78-926d-8ed04fb2fc21",
   "metadata": {},
   "outputs": [],
   "source": [
    "import os\n",
    "\n",
    "import wikipedia\n",
    "from crewai import Agent, Crew, Task, Process\n",
    "from crewai_tools import BaseTool\n",
    "from langchain_community.tools import WikipediaQueryRun\n",
    "from langchain_community.utilities import WikipediaAPIWrapper\n",
    "from dotenv import load_dotenv"
   ]
  },
  {
   "cell_type": "markdown",
   "id": "e724787c",
   "metadata": {},
   "source": [
    "Before you execute this cell, make sure to provide the environment variables `OPENAI_API_BASE`, `OPENAI_MODEL_NAME`, and `OPENAI_API_KEY` in the `.env` file."
   ]
  },
  {
   "cell_type": "code",
   "execution_count": null,
   "id": "0e3ec0b7-4874-4029-ac33-eed56bc800db",
   "metadata": {},
   "outputs": [],
   "source": [
    "load_dotenv(override=True)\n",
    "\n",
    "model_name = os.environ.get(\"OPENAI_MODEL_NAME\", \"No model specified in .env file\")\n",
    "print(\"Using the following LLM model:\", model_name)"
   ]
  },
  {
   "cell_type": "markdown",
   "id": "e47634e8",
   "metadata": {},
   "source": [
    "## Tools"
   ]
  },
  {
   "cell_type": "code",
   "execution_count": null,
   "id": "1a17dc49-d791-4050-a0d9-2e03227e3525",
   "metadata": {},
   "outputs": [],
   "source": [
    "class RandomTopicGeneratorTool(BaseTool):\n",
    "    name: str = \"Retruns a set of random topics\"\n",
    "    description: str = \"Given a number of topics, this tools returns a list of random topics with the specified size\"\n",
    "\n",
    "    def _run(self, num_articles: int) -> list[str]:\n",
    "        return wikipedia.random(pages=num_articles)\n",
    "\n",
    "    def cache_function(*args):\n",
    "        return False\n",
    "\n",
    "\n",
    "random_topic_generator = RandomTopicGeneratorTool()\n",
    "wikipedia_search_tool = WikipediaQueryRun(api_wrapper=WikipediaAPIWrapper())"
   ]
  },
  {
   "cell_type": "markdown",
   "id": "1c473d11",
   "metadata": {},
   "source": [
    "## Agents"
   ]
  },
  {
   "cell_type": "code",
   "execution_count": null,
   "id": "827e6687-0833-4d6e-a129-3a1fedf94fc6",
   "metadata": {},
   "outputs": [],
   "source": [
    "topic_screener = Agent(\n",
    "    role=\"Expert Trivia Topic Screener\",\n",
    "    goal=(\n",
    "        \"Look up random topics and select the {num_questions} most interesting ones for a \"\n",
    "        \"pub quiz. Consider that at least some of the pub quiz participants should know at \"\n",
    "        \"least something about the topics.\"\n",
    "    ),\n",
    "    backstory=\"You are a famous pub quiz player and you know exactly what trivia topics hold the best questions.\",\n",
    "    tools=[random_topic_generator],\n",
    "    cache=False,\n",
    "    verbose=True,\n",
    ")\n",
    "\n",
    "topic_researcher = Agent(\n",
    "    role=\"Senior Topic Researcher\",\n",
    "    goal=(\n",
    "        \"Given a topic, find out as much as you can about it and write down the \"\n",
    "        \"{num_key_infos_per_topic} most important and/or curious facts about the topic.\"\n",
    "    ),\n",
    "    backstory=(\n",
    "        \"After serving 20 years in a OSINT group at the secret service \"\n",
    "        \"you decided that it is now time to pursue your passion: applying \"\n",
    "        \"your reasearching skills to help a team of pub quiz enthusiasts \"\n",
    "        \"to get the best facts about certain topics which they then convert\"\n",
    "        \"into unique and compelling questions.\"\n",
    "    ),\n",
    "    tools=[wikipedia_search_tool],\n",
    "    cache=True,\n",
    "    verbose=True,\n",
    ")\n",
    "\n",
    "quiz_writer = Agent(\n",
    "    role=\"World-renowned Quiz Writer\",\n",
    "    goal=(\n",
    "        \"Given a set of {num_questions} topics and facts about these topics, you craft \"\n",
    "        \"unique and compelling questions that can be included in a pub quiz. You write \"\n",
    "        \"exactly {num_questions} questions, one for each topic, always based on the \"\n",
    "        \"facts that are provided to you for that specific topic. You also provide the \"\n",
    "        \"correct answer for each question.\"\n",
    "    ),\n",
    "    backstory=(\n",
    "        \"Known by all pub quiz lovers, you excell at writing funny and interesting pub \"\n",
    "        \"quiz questions. Many people only go to a pub quiz if you wrote the questions, \"\n",
    "        \"and they pay a lot of money for it. Before becoming a famous quiz writer, you \"\n",
    "        \"went to pub quizzes yourself for years, until you became bored of the same old \"\n",
    "        \"questions. This is why you decided that there was time for a change.\"\n",
    "    ),\n",
    "    cache=False,\n",
    "    verbose=True,\n",
    ")\n",
    "\n",
    "qa_specialist = Agent(\n",
    "    role=\"Quiz QA Specialist\",\n",
    "    goal=(\n",
    "        \"Analyze pub quiz questions and point out if there is a question that does not \"\n",
    "        \"meet with your quality standards or if a question is inappropriate.\"\n",
    "    ),\n",
    "    backstory=(\n",
    "        \"You've always had a knack for trivia, with a brain wired for absorbing obscure \"\n",
    "        \"facts and a passion for perfection. After years of dominating local pub quizzes, \"\n",
    "        \"you found yourself in a unique role—Quiz QA Specialist. Your job is to sift \"\n",
    "        \"through hundreds of quiz questions daily, ensuring each one is clear, accurate, \"\n",
    "        \"and challenging enough to keep participants on their toes. With a red pen in \"\n",
    "        \"hand, you meticulously edit or reject any question that doesn't meet your high \"\n",
    "        \"standards, knowing that a great quiz is built on the foundation of flawless questions.\"\n",
    "    ),\n",
    "    cache=False,\n",
    "    verbose=True,\n",
    ")\n",
    "\n",
    "ceo = Agent(\n",
    "    role=\"CEO of Triviology, the leading pub quiz company\",\n",
    "    goal=(\n",
    "        \"Manage the company and all of its employees to make sure that each employee \"\n",
    "        \"works on the tasks that lie in their area of expertise. You orchestrate the \"\n",
    "        \"collaboration between different employees to ensure good outcomes. You make \"\n",
    "        \"sure that suggestions for improvements are taken seriously and acted upon.\"\n",
    "    ),\n",
    "    backstory=(\n",
    "        \"After climbing the corporate ladder in the competitive world of entertainment, \"\n",
    "        \"you became the visionary CEO of Triviology, a leading company in the pub quiz \"\n",
    "        \"industry. With a deep love for trivia and a keen business acumen, you've \"\n",
    "        \"transformed Triviology from a small startup into a global brand synonymous \"\n",
    "        \"with high-quality quiz experiences. Your days are spent strategizing new ways \"\n",
    "        \"to innovate, expanding into new markets, and ensuring that every quiz night, \"\n",
    "        \"whether in a cozy local pub or a massive online event, delivers both fun and \"\n",
    "        \"challenge. Under your leadership, Triviology is not just about asking questions\"\n",
    "        \"—it's about creating memorable, engaging experiences for trivia enthusiasts everywhere.\"\n",
    "    ),\n",
    "    cache=False,\n",
    "    verbose=True,\n",
    ")"
   ]
  },
  {
   "cell_type": "markdown",
   "id": "c1dc217b",
   "metadata": {},
   "source": [
    "## Tasks"
   ]
  },
  {
   "cell_type": "code",
   "execution_count": null,
   "id": "4c65bb8d-44c2-4a8e-a34a-0a28f925f352",
   "metadata": {},
   "outputs": [],
   "source": [
    "find_topics = Task(\n",
    "    description=(\n",
    "        \"Compile a list of {num_random_articles} random topics and select \"\n",
    "        \"the {num_questions} most interesting ones that you think could be \"\n",
    "        \"a good starting point for creating pub quiz questions.\"\n",
    "    ),\n",
    "    expected_output=\"A bullet point list with {num_questions} topics\",\n",
    "    agent=topic_screener,\n",
    ")\n",
    "\n",
    "research_information = Task(\n",
    "    description=(\n",
    "        \"Given a topic, find information about the topic and write down \"\n",
    "        \"the {num_key_infos_per_topic} most important and/or curious points about the topic.\"\n",
    "    ),\n",
    "    expected_output=\"A bullet point list with {num_key_infos_per_topic} points per topic\",\n",
    "    agent=topic_researcher,\n",
    ")\n",
    "\n",
    "write_questions = Task(\n",
    "    description=(\n",
    "        \"Given a set of {num_questions} topics and facts about these topics, craft \"\n",
    "        \"unique and compelling questions that can be included in a pub quiz, and also \"\n",
    "        \"write down the answer to each question. There should be one question for each \"\n",
    "        \"topic, and the questions should always be based on the information provided.\"\n",
    "    ),\n",
    "    expected_output=\"A list with {num_questions} question - answer pairs for a pub quiz.\",\n",
    "    agent=quiz_writer,\n",
    "    output_file=\"questions.txt\"\n",
    ")\n",
    "\n",
    "quality_assesment = Task(\n",
    "    description=(\n",
    "        \"Analyze pub quiz questions and point out if there is a question that does not \"\n",
    "        \"meet with your quality standards or if a question is inappropriate. If youu point \"\n",
    "        \"out something that needs to be changed, explicitly state that the Quiz Writer should \"\n",
    "        \"have a look at your feedback and implement your suggestions.\"\n",
    "    ),\n",
    "    expected_output=(\n",
    "        \"Either a simple 'questions approved' or a list of specific shortcomings of the \"\n",
    "        \"questions. Explain your reasoning in case there are shortcomings.\"\n",
    "    ),\n",
    "    agent=qa_specialist,\n",
    ")"
   ]
  },
  {
   "cell_type": "markdown",
   "id": "4ad9a9fc",
   "metadata": {},
   "source": [
    "## Kicking off the Crew\n",
    "\n",
    "Now it's time to kick off the crew. This part is already implemented for you, so go ahead an execute it. You will be asked for a question, here are some inspirations:\n",
    "\n",
    "`...`"
   ]
  },
  {
   "cell_type": "code",
   "execution_count": null,
   "id": "f753b92c-170a-4d52-9119-53d1d30a79eb",
   "metadata": {},
   "outputs": [],
   "source": [
    "crew = Crew(\n",
    "    agents=[topic_screener, topic_researcher, quiz_writer, qa_specialist],\n",
    "    tasks=[find_topics, research_information, write_questions, quality_assesment],\n",
    "    process=Process.hierarchical,\n",
    "    manager_agent=ceo,\n",
    "    cache=False,\n",
    ")\n",
    "\n",
    "result = crew.kickoff(inputs={\"num_questions\": 5, \"num_random_articles\": 250, \"num_key_infos_per_topic\": 10})\n",
    "\n",
    "print(result.raw)"
   ]
  },
  {
   "cell_type": "code",
   "execution_count": null,
   "id": "4b60049d",
   "metadata": {},
   "outputs": [],
   "source": [
    "print(crew.usage_metrics)"
   ]
  }
 ],
 "metadata": {
  "kernelspec": {
   "display_name": "Python 3 (ipykernel)",
   "language": "python",
   "name": "python3"
  },
  "language_info": {
   "codemirror_mode": {
    "name": "ipython",
    "version": 3
   },
   "file_extension": ".py",
   "mimetype": "text/x-python",
   "name": "python",
   "nbconvert_exporter": "python",
   "pygments_lexer": "ipython3",
   "version": "3.10.14"
  }
 },
 "nbformat": 4,
 "nbformat_minor": 5
}
