{
 "cells": [
  {
   "cell_type": "markdown",
   "id": "379fd652",
   "metadata": {},
   "source": [
    "# Exercise 4\n",
    "\n",
    "Welcome to the fourth challenge! The goal of this exercise is to generate a Pub Quiz Crew that can automatically generate pub quiz questions based on random wikipedia articles. Have fun!\n",
    "\n",
    "## Setup"
   ]
  },
  {
   "cell_type": "markdown",
   "id": "e724787c",
   "metadata": {},
   "source": [
    "Before you execute this cell, make sure to provide the environment variables `OPENAI_API_BASE`, `OPENAI_MODEL_NAME`, and `OPENAI_API_KEY` in the `.env` file."
   ]
  },
  {
   "cell_type": "code",
   "execution_count": null,
   "id": "f02fe864",
   "metadata": {},
   "outputs": [],
   "source": [
    "import os\n",
    "from dotenv import load_dotenv\n",
    "\n",
    "load_dotenv(override=True)\n",
    "\n",
    "assert \"OPENAI_MODEL_NAME\" in os.environ, \"No model specified in .env file!\"\n",
    "print(\"Using the following LLM model:\", os.environ.get(\"OPENAI_MODEL_NAME\"))"
   ]
  },
  {
   "cell_type": "markdown",
   "id": "e47634e8",
   "metadata": {},
   "source": [
    "## Tools"
   ]
  },
  {
   "cell_type": "code",
   "execution_count": 15,
   "id": "1a17dc49-d791-4050-a0d9-2e03227e3525",
   "metadata": {},
   "outputs": [],
   "source": [
    "# TODO: implement the tools for your pub quiz crew"
   ]
  },
  {
   "cell_type": "markdown",
   "id": "1c473d11",
   "metadata": {},
   "source": [
    "## Agents"
   ]
  },
  {
   "cell_type": "code",
   "execution_count": 16,
   "id": "827e6687-0833-4d6e-a129-3a1fedf94fc6",
   "metadata": {},
   "outputs": [],
   "source": [
    "# TODO: implement the agents for your pub quiz crew"
   ]
  },
  {
   "cell_type": "markdown",
   "id": "c1dc217b",
   "metadata": {},
   "source": [
    "## Tasks"
   ]
  },
  {
   "cell_type": "code",
   "execution_count": 17,
   "id": "4c65bb8d-44c2-4a8e-a34a-0a28f925f352",
   "metadata": {},
   "outputs": [],
   "source": [
    "# TODO: implement the tasks for your crew"
   ]
  },
  {
   "cell_type": "markdown",
   "id": "4ad9a9fc",
   "metadata": {},
   "source": [
    "## Kicking off the Crew"
   ]
  },
  {
   "cell_type": "code",
   "execution_count": 3,
   "id": "f753b92c-170a-4d52-9119-53d1d30a79eb",
   "metadata": {},
   "outputs": [],
   "source": [
    "# TODO: Run the crew"
   ]
  }
 ],
 "metadata": {
  "kernelspec": {
   "display_name": "Python 3 (ipykernel)",
   "language": "python",
   "name": "python3"
  },
  "language_info": {
   "codemirror_mode": {
    "name": "ipython",
    "version": 3
   },
   "file_extension": ".py",
   "mimetype": "text/x-python",
   "name": "python",
   "nbconvert_exporter": "python",
   "pygments_lexer": "ipython3",
   "version": "3.10.14"
  }
 },
 "nbformat": 4,
 "nbformat_minor": 5
}
