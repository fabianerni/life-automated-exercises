{
 "cells": [
  {
   "cell_type": "markdown",
   "id": "379fd652",
   "metadata": {},
   "source": [
    "# Exercise 1\n",
    "\n",
    "Welcome to the first challenge! The goal of this exercise is to create a Public Transport Agent that is able to access public transport information to answer questions regarding connections. Part of the code is already provided for you, but you will find TODO comments that indicate where you should implement something. Good luck with the exercise!\n",
    "\n",
    "## Setup\n",
    "Let's start by importing the libraries that we will need."
   ]
  },
  {
   "cell_type": "code",
   "execution_count": null,
   "id": "f173c616",
   "metadata": {},
   "outputs": [],
   "source": [
    "import warnings\n",
    "\n",
    "warnings.filterwarnings(\"ignore\")"
   ]
  },
  {
   "cell_type": "code",
   "execution_count": null,
   "id": "60f954b2-f848-4a78-926d-8ed04fb2fc21",
   "metadata": {},
   "outputs": [],
   "source": [
    "import os\n",
    "import re\n",
    "from datetime import datetime\n",
    "\n",
    "import requests\n",
    "from crewai import Agent, Crew, Task\n",
    "from crewai_tools import BaseTool, tool\n",
    "from dotenv import load_dotenv"
   ]
  },
  {
   "cell_type": "markdown",
   "id": "e724787c",
   "metadata": {},
   "source": [
    "Before you execute this cell, make sure to provide the environment variables `OPENAI_API_BASE`, `OPENAI_MODEL_NAME`, and `OPENAI_API_KEY` in the `.env` file."
   ]
  },
  {
   "cell_type": "code",
   "execution_count": null,
   "id": "0e3ec0b7-4874-4029-ac33-eed56bc800db",
   "metadata": {},
   "outputs": [],
   "source": [
    "load_dotenv(override=True)\n",
    "\n",
    "assert \"OPENAI_MODEL_NAME\" in os.environ, \"No model specified in .env file!\"\n",
    "print(\"Using the following LLM model:\", os.environ.get(\"OPENAI_MODEL_NAME\"))"
   ]
  },
  {
   "cell_type": "markdown",
   "id": "dc7ad82b",
   "metadata": {},
   "source": [
    "## Helper functions\n",
    "\n",
    "In this section of the notebook you can implement the helper functions that your tools are going to use. There is already one helper function that is implemented for you. You may or may not use it. If you don't need any other helper function, feel free to just execute the cell without modyfing it."
   ]
  },
  {
   "cell_type": "code",
   "execution_count": null,
   "id": "07e43544-b7d4-49ba-a928-90545b2eead9",
   "metadata": {},
   "outputs": [],
   "source": [
    "# Helper functions\n",
    "def format_duration(duration: str) -> str:\n",
    "    \"\"\" Formats the duration returned by the public transport API such that it is more readable. \"\"\"\n",
    "    readable_duration_str = \"Invalid format\"\n",
    "    \n",
    "    match = re.match(r\"(\\d{2})d(\\d{2}):(\\d{2}):(\\d{2})\", duration)\n",
    "    if match:\n",
    "        days, hours, minutes, seconds = map(int, match.groups())\n",
    "        \n",
    "        readable_duration = []\n",
    "        \n",
    "        if days > 0:\n",
    "            readable_duration.append(f\"{days} day{'s' if days > 1 else ''}\")\n",
    "        if hours > 0:\n",
    "            readable_duration.append(f\"{hours} hour{'s' if hours > 1 else ''}\")\n",
    "        if minutes > 0:\n",
    "            readable_duration.append(f\"{minutes} minute{'s' if minutes > 1 else ''}\")\n",
    "        if seconds > 0:\n",
    "            readable_duration.append(f\"{seconds} second{'s' if seconds > 1 else ''}\")\n",
    "        \n",
    "        readable_duration_str = ', '.join(readable_duration)\n",
    "\n",
    "    return readable_duration_str"
   ]
  },
  {
   "cell_type": "markdown",
   "id": "e47634e8",
   "metadata": {},
   "source": [
    "## Tools\n",
    "\n",
    "In this section, we will implement the tools that our agent is going to use. You can turn any function into a tool by using the `@tool` decorator. The decorator will turn the function into a tool object of type `Tool`, which in turn is of type `BaseTool`. By default, these `BaseTools` come with a caching mechanism. If you don't want that, I'd recommend writing the tool as a class that inherits from `BaseTool` and then explicitly setting the `cache_function` to a function that returns `False`. Below you can see both ways of creating a tool.\n",
    "\n",
    "Now it's your turn to have a look at the TODO comments below and implement the missing parts. Feel free to create more cells to play around with the implementation and to test it."
   ]
  },
  {
   "cell_type": "code",
   "execution_count": null,
   "id": "1a17dc49-d791-4050-a0d9-2e03227e3525",
   "metadata": {},
   "outputs": [],
   "source": [
    "# Tools\n",
    "@tool(\"Get public transport connections\")\n",
    "def get_connections(start: str, end: str, date: str, time: str, is_arrival_time: bool):\n",
    "    \"\"\"\n",
    "    Gets public transport connections for a given start and end location and a specific date and time.\n",
    "    Requires UTF-8 encoded arguments, do not use unicode characters! \n",
    "\n",
    "    :param start: A string representing either the name of the station or its ID\n",
    "    :param end: A string representing either the name of the station or its ID\n",
    "    :param date: The date for which to check the connections (iso format)\n",
    "    :param time: The time for which to check the connections (%H:%M)\n",
    "    :param is_arrival_time: Boolean value specifying whether the date and time refer \n",
    "        to the arrival (True) or the departure (False). The argument should be formatted\n",
    "        as a string because it will be converted into a boolean upon executing this tool.\n",
    "    \"\"\"\n",
    "    # TODO: You might want to experiment with the following two lines in another cell first to get a grasp of how the response looks like\n",
    "    response = requests.get(f\"http://transport.opendata.ch/v1/connections?from={start}&to={end}&date={date}&time={time}&isArrivalTime={int(is_arrival_time)}\")\n",
    "    data = response.json()\n",
    "\n",
    "    connections = []\n",
    "    for connection in data[\"connections\"]:\n",
    "        connections.append(\n",
    "            {\n",
    "                # TODO: Think about what kind of information you want to provide for the agent and then put it in the dictionary\n",
    "            }\n",
    "        )\n",
    "\n",
    "    if not connections:\n",
    "        raise Exception(\"Couldn't find any connection, please verify that all of the arguments are correctly formatted in UTF-8\")\n",
    "\n",
    "    return connections\n",
    "\n",
    "class GetCurrentDateAndTimeTool(BaseTool):\n",
    "    name: str = \"Get the current date and time\"\n",
    "    description: str = \"Returns a dictionary with information about the current date and time.\"\n",
    "\n",
    "    def _run(self) -> dict:\n",
    "        # TODO: implement this tool\n",
    "        pass\n",
    "\n",
    "    def cache_function(*args):\n",
    "        return False"
   ]
  },
  {
   "cell_type": "markdown",
   "id": "1c473d11",
   "metadata": {},
   "source": [
    "## Agent\n",
    "\n",
    "Now we need to create an agent that can call the tools that we just created. Below you can see the template for the public transport agent. You need to specify the rolem the goal and the backstory of the agent. Usually, the more specific you are, the better the outcome. When defining the role of an agent, it can be helpful to think about it from the perspective of a project manager that needs to find the perfect candidate for a certain position. What kind of roles would he be hiring for?\n",
    "\n",
    "You can use curly brackets within the text fields to represent variables that are inserted when kicking off the crew. This way, your descriptions are more flexible."
   ]
  },
  {
   "cell_type": "code",
   "execution_count": null,
   "id": "827e6687-0833-4d6e-a129-3a1fedf94fc6",
   "metadata": {},
   "outputs": [],
   "source": [
    "public_transport_agent = Agent(\n",
    "    role=\"\",  # TODO: Specify the role of the agent\n",
    "    goal=\"\",  # TODO: Specify the goal of the agent, you might want to include the variable user_request\n",
    "    backstory=\"\",  # TODO: Specify the backstory of the agent\n",
    "    tools=[GetCurrentDateAndTimeTool(), get_connections],\n",
    "    verbose=True,\n",
    ")"
   ]
  },
  {
   "cell_type": "markdown",
   "id": "c1dc217b",
   "metadata": {},
   "source": [
    "## Task\n",
    "Now that we have an agent that can use tools, we need to define the task that should be solved. A task consists of a description, an expected output, and an agent that is assigned to the task. Again, you can use curly brackets to represent variables that are inserted at runtime."
   ]
  },
  {
   "cell_type": "code",
   "execution_count": null,
   "id": "4c65bb8d-44c2-4a8e-a34a-0a28f925f352",
   "metadata": {},
   "outputs": [],
   "source": [
    "public_transport_task = Task(\n",
    "    description=\"\",  # TODO: Specify the description of the task\n",
    "    expected_output=\"\",  # TODO: Specify the expected output of the task\n",
    "    agent=public_transport_agent,\n",
    ")"
   ]
  },
  {
   "cell_type": "markdown",
   "id": "4ad9a9fc",
   "metadata": {},
   "source": [
    "## Kicking off the Crew\n",
    "\n",
    "Now it's time to kick off the crew. This part is already implemented for you, so go ahead an execute it. You will be asked for a question, here are some inspirations:\n",
    "\n",
    "- Ich befinde mich gerade beim Zürich HB und möchte nach Bern fahren, wann ist die nächste Verbindung und auf welchem Gleis?\n",
    "- Ich befinde mich in Bern. Wann muss ich morgen auf den Zug gehen, wenn ich um 11 Uhr in Zürich sein will?\n",
    "- Ich bin etwa 15 Minuten Fussweg vom Bahnof Luzern entfernt. Wann muss ich von hier loslaufen, wenn ich um 17 Uhr in Basel sein will?"
   ]
  },
  {
   "cell_type": "code",
   "execution_count": null,
   "id": "f753b92c-170a-4d52-9119-53d1d30a79eb",
   "metadata": {},
   "outputs": [],
   "source": [
    "crew = Crew(agents=[public_transport_agent], tasks=[public_transport_task])\n",
    "\n",
    "question = input(\"Question: \")\n",
    "\n",
    "result = crew.kickoff(inputs={\n",
    "    \"user_request\": question\n",
    "})\n",
    "\n",
    "print(\"Reply:\", result.raw)"
   ]
  },
  {
   "cell_type": "code",
   "execution_count": null,
   "id": "ca77cc11",
   "metadata": {},
   "outputs": [],
   "source": [
    "print(f\"Usage metrics: {crew.usage_metrics}\")"
   ]
  }
 ],
 "metadata": {
  "kernelspec": {
   "display_name": "Python 3 (ipykernel)",
   "language": "python",
   "name": "python3"
  },
  "language_info": {
   "codemirror_mode": {
    "name": "ipython",
    "version": 3
   },
   "file_extension": ".py",
   "mimetype": "text/x-python",
   "name": "python",
   "nbconvert_exporter": "python",
   "pygments_lexer": "ipython3",
   "version": "3.10.14"
  }
 },
 "nbformat": 4,
 "nbformat_minor": 5
}
