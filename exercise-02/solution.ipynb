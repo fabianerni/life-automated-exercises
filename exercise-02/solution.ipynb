{
 "cells": [
  {
   "cell_type": "markdown",
   "id": "379fd652",
   "metadata": {},
   "source": [
    "# Exercise 2\n",
    "\n",
    "Welcome to the second challenge! The goal of this exercise is to create a Event Manager Agent that is able to look at events in a Google calendar and create new ones. Part of the code is already provided for you, but you will find TODO comments that indicate where you should implement something. Good luck with the exercise!\n",
    "\n",
    "## Setup\n",
    "Let's start by importing the libraries that we will need."
   ]
  },
  {
   "cell_type": "code",
   "execution_count": null,
   "id": "6b129e6a",
   "metadata": {},
   "outputs": [],
   "source": [
    "import warnings\n",
    "\n",
    "warnings.filterwarnings(\"ignore\")"
   ]
  },
  {
   "cell_type": "code",
   "execution_count": null,
   "id": "60f954b2-f848-4a78-926d-8ed04fb2fc21",
   "metadata": {},
   "outputs": [],
   "source": [
    "import os\n",
    "from datetime import datetime\n",
    "from typing import Optional\n",
    "\n",
    "from crewai import Agent, Crew, Task\n",
    "from crewai_tools import BaseTool\n",
    "from dotenv import load_dotenv\n",
    "from gcsa.event import Event\n",
    "from gcsa.google_calendar import GoogleCalendar"
   ]
  },
  {
   "cell_type": "markdown",
   "id": "e724787c",
   "metadata": {},
   "source": [
    "Before you execute this cell, make sure to provide the environment variables `OPENAI_API_BASE`, `OPENAI_MODEL_NAME`, and `OPENAI_API_KEY` in the `.env` file."
   ]
  },
  {
   "cell_type": "code",
   "execution_count": null,
   "id": "0e3ec0b7-4874-4029-ac33-eed56bc800db",
   "metadata": {},
   "outputs": [],
   "source": [
    "load_dotenv(override=True)\n",
    "\n",
    "assert \"OPENAI_MODEL_NAME\" in os.environ, \"No model specified in .env file!\"\n",
    "print(\"Using the following LLM model:\", os.environ.get(\"OPENAI_MODEL_NAME\"))"
   ]
  },
  {
   "cell_type": "markdown",
   "id": "f0471834",
   "metadata": {},
   "source": [
    "Before you execute the code below, make sure that you have the credentials for your Google Calendar ready. "
   ]
  },
  {
   "cell_type": "code",
   "execution_count": null,
   "id": "4797da71",
   "metadata": {},
   "outputs": [],
   "source": [
    "gc = GoogleCalendar(credentials_path=\"../credentials/credentials.json\")\n",
    "\n",
    "print(\"Available calendars:\")\n",
    "for calendar in gc.get_calendar_list():\n",
    "    print(f\"Calendar: {calendar}, id: {calendar.calendar_id}\")"
   ]
  },
  {
   "cell_type": "code",
   "execution_count": null,
   "id": "ffab39c2",
   "metadata": {},
   "outputs": [],
   "source": [
    "# TODO: replace [YOUR CALENDAR ID] with the id of the calendar that you want to interact with - for this exercise you can use \"agents.wt24@gmail.com\"\n",
    "gc = GoogleCalendar(\"agents.wt24@gmail.com\", credentials_path=\"../credentials/credentials.json\")"
   ]
  },
  {
   "cell_type": "markdown",
   "id": "e47634e8",
   "metadata": {},
   "source": [
    "## Tools"
   ]
  },
  {
   "cell_type": "code",
   "execution_count": null,
   "id": "1a17dc49-d791-4050-a0d9-2e03227e3525",
   "metadata": {},
   "outputs": [],
   "source": [
    "# Used for the GetCurrentDateAndTimeTool\n",
    "weekday_map = {\n",
    "    0: \"Monday\",\n",
    "    1: \"Tuesday\",\n",
    "    2: \"Wednesday\",\n",
    "    3: \"Thursday\",\n",
    "    4: \"Friday\",\n",
    "    5: \"Saturday\",\n",
    "    6: \"Sunday\",\n",
    "}\n",
    "\n",
    "class GetEventsTool(BaseTool):\n",
    "    name: str = \"Get events within a certain time span from the calendar\"\n",
    "    description: str = (\n",
    "        \"Returns a list of dictionaries that store information about the events in the specified time span.\"\n",
    "    )\n",
    "\n",
    "    def _run(self, start_datetime_isoformat: str, end_datetime_isoformat: str) -> dict:\n",
    "        start = datetime.fromisoformat(start_datetime_isoformat)\n",
    "        end = datetime.fromisoformat(end_datetime_isoformat)\n",
    "\n",
    "        events = gc.get_events(time_min=start, time_max=end)\n",
    "        output = []\n",
    "\n",
    "        for event in events:\n",
    "            recurrence = event.recurrence[0] if event.recurrence else None\n",
    "            output.append(\n",
    "                {\n",
    "                    \"title\": event.summary,\n",
    "                    \"description\": event.description,\n",
    "                    \"location\": event.location,\n",
    "                    \"start\": event.start.isoformat(),\n",
    "                    \"end\": event.end.isoformat(),\n",
    "                    \"recurrence\": recurrence,\n",
    "                }\n",
    "            )\n",
    "\n",
    "        return output\n",
    "\n",
    "    def cache_function(*args):\n",
    "        return False\n",
    "\n",
    "\n",
    "class CreateEventTool(BaseTool):\n",
    "    name: str = \"Creates a new event in the calendar.\"\n",
    "    description: str = \"This tool can be used to create new events in the calendar.\"\n",
    "\n",
    "    def _run(\n",
    "        self,\n",
    "        start_datetime_isoformat: str,\n",
    "        end_datetime_isoformat: str,\n",
    "        event_title: str,\n",
    "        event_description: str,\n",
    "        event_location: Optional[str] = None,\n",
    "    ) -> None:\n",
    "        start = datetime.fromisoformat(start_datetime_isoformat)\n",
    "        end = datetime.fromisoformat(end_datetime_isoformat)\n",
    "\n",
    "        event = Event(\n",
    "            summary=event_title, description=event_description, start=start, end=end, location=event_location\n",
    "        )\n",
    "\n",
    "        gc.add_event(event)\n",
    "\n",
    "    def cache_function(*args):\n",
    "        return False\n",
    "\n",
    "\n",
    "class GetCurrentDateAndTimeTool(BaseTool):\n",
    "    name: str = \"Get the current date and time\"\n",
    "    description: str = \"Returns a dictionary with information about the current date and time.\"\n",
    "\n",
    "    def _run(self) -> dict:\n",
    "        now = datetime.now()\n",
    "        return {\n",
    "            \"year\": now.year,\n",
    "            \"month\": now.month,\n",
    "            \"day\": now.day,\n",
    "            \"hour\": now.hour,\n",
    "            \"minute\": now.minute,\n",
    "            \"weekday\": weekday_map[now.weekday()],\n",
    "        }\n",
    "\n",
    "    def cache_function(*args):\n",
    "        return False"
   ]
  },
  {
   "cell_type": "markdown",
   "id": "1c473d11",
   "metadata": {},
   "source": [
    "## Agents"
   ]
  },
  {
   "cell_type": "code",
   "execution_count": null,
   "id": "827e6687-0833-4d6e-a129-3a1fedf94fc6",
   "metadata": {},
   "outputs": [],
   "source": [
    "event_manager = Agent(\n",
    "    role=\"Senior Event Manager\",\n",
    "    goal=(\n",
    "        \"Use your event management expertise to help the user \"\n",
    "        \"with his request. Make sure that you incorporate your \"\n",
    "        \"domain knowldege. For example, you are aware that even \"\n",
    "        \"if an event in a calendar is an all-day event, it does \"\n",
    "        \"not always mean that the user is really blocked by this \"\n",
    "        \"event the entire day. Make sure to infer as much as possible \"\n",
    "        \"from the event information that you have access to. Here is \"\n",
    "        \"the user's request: {user_request}\"\n",
    "    ),\n",
    "    backstory=\"A knowledgeable expert in planning and managing events.\",\n",
    "    tools=[GetCurrentDateAndTimeTool(), GetEventsTool(), CreateEventTool()],\n",
    "    cache=False,\n",
    "    verbose=True,\n",
    ")"
   ]
  },
  {
   "cell_type": "markdown",
   "id": "c1dc217b",
   "metadata": {},
   "source": [
    "## Tasks"
   ]
  },
  {
   "cell_type": "code",
   "execution_count": null,
   "id": "4c65bb8d-44c2-4a8e-a34a-0a28f925f352",
   "metadata": {},
   "outputs": [],
   "source": [
    "calendar_task = Task(\n",
    "    description=\"Handle the user's request regarding his calendar. The language of your answer should match the language of the question.\",\n",
    "    expected_output=\"A concise and helpful answer to the user's request.\",\n",
    "    agent=event_manager,\n",
    ")"
   ]
  },
  {
   "cell_type": "markdown",
   "id": "4ad9a9fc",
   "metadata": {},
   "source": [
    "## Kicking off the Crew\n",
    "\n",
    "Now it's time to kick off the crew. This part is already implemented for you, so go ahead an execute it. You will be asked for a question, here are some inspirations:\n",
    "\n",
    "- Ich hatte am Mittwoch vom 10 Uhr bis 12 Uhr einen Termin mit Herrn Müller, in dem es um die neue Strategie ging. Kannst du den Termin nachträglich in meinen Kalender eintragen?\n",
    "- Habe ich morgen irgendwann zwischen 14 Uhr und 16 Uhr noch einen freien Slot für einen 30-minütigen Termin? Falls ja, bitte erstelle mir einen Blocker."
   ]
  },
  {
   "cell_type": "code",
   "execution_count": null,
   "id": "f753b92c-170a-4d52-9119-53d1d30a79eb",
   "metadata": {},
   "outputs": [],
   "source": [
    "crew = Crew(agents=[event_manager], tasks=[calendar_task], cache=False)\n",
    "\n",
    "request = input(\"Question: \")\n",
    "\n",
    "result = crew.kickoff(inputs={\n",
    "    \"user_request\": request\n",
    "})\n",
    "\n",
    "print(\"reply:\", result.raw)"
   ]
  }
 ],
 "metadata": {
  "kernelspec": {
   "display_name": "Python 3 (ipykernel)",
   "language": "python",
   "name": "python3"
  },
  "language_info": {
   "codemirror_mode": {
    "name": "ipython",
    "version": 3
   },
   "file_extension": ".py",
   "mimetype": "text/x-python",
   "name": "python",
   "nbconvert_exporter": "python",
   "pygments_lexer": "ipython3",
   "version": "3.10.14"
  }
 },
 "nbformat": 4,
 "nbformat_minor": 5
}
