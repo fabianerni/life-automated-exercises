{
 "cells": [
  {
   "cell_type": "code",
   "execution_count": null,
   "id": "0e3ec0b7-4874-4029-ac33-eed56bc800db",
   "metadata": {},
   "outputs": [],
   "source": [
    "import os\n",
    "from dotenv import load_dotenv\n",
    "\n",
    "load_dotenv(override=True)\n",
    "\n",
    "model_name = os.environ.get(\"OPENAI_MODEL_NAME\", \"No model specified in .env file\")\n",
    "print(\"Using the following LLM model:\", model_name)"
   ]
  },
  {
   "cell_type": "code",
   "execution_count": null,
   "id": "1825ecab",
   "metadata": {},
   "outputs": [],
   "source": [
    "from crewai import Agent\n",
    "\n",
    "pizzaiolo = Agent(\n",
    "    role=\"Pizzaiolo\",\n",
    "    goal=\"Preserve the best pizza recipes\",\n",
    "    verbose=True,\n",
    "    backstory=(\n",
    "        \"Having worked at a gourmed restaurant \"\n",
    "        \"you know every delicious pizza recipe.\"\n",
    "    ),\n",
    ")"
   ]
  },
  {
   "cell_type": "code",
   "execution_count": null,
   "id": "8c435437",
   "metadata": {},
   "outputs": [],
   "source": [
    "from pydantic import BaseModel\n",
    "\n",
    "class PizzaRecipe(BaseModel):\n",
    "    ingredients: list[str]\n",
    "    recipe_name: str\n",
    "    instructions: str"
   ]
  },
  {
   "cell_type": "code",
   "execution_count": null,
   "id": "8a07b5b4",
   "metadata": {},
   "outputs": [],
   "source": [
    "from crewai import Task\n",
    "from crewai.tasks import TaskOutput\n",
    "\n",
    "def callback_function(output: TaskOutput):\n",
    "    output.pydantic.ingredients.append(\"Ananas\")\n",
    "\n",
    "recipe_task = Task(\n",
    "    description=\"Write a recipe for the following pizza: {pizza}\",\n",
    "    expected_output=\"All the details of the pizza recipe.\",\n",
    "    output_pydantic=PizzaRecipe,\n",
    "    callback=callback_function,\n",
    "    agent=pizzaiolo,\n",
    ")"
   ]
  },
  {
   "cell_type": "code",
   "execution_count": null,
   "id": "8acf0a37",
   "metadata": {},
   "outputs": [],
   "source": [
    "from crewai import Crew\n",
    "\n",
    "pizza_crew = Crew(\n",
    "    agents=[],\n",
    "    tasks=[recipe_task],\n",
    "    verbose=True,\n",
    ")"
   ]
  },
  {
   "cell_type": "code",
   "execution_count": null,
   "id": "553a571b",
   "metadata": {},
   "outputs": [],
   "source": [
    "result = pizza_crew.kickoff(inputs={\"pizza\": \"Funghi\"})\n",
    "\n",
    "result.pydantic.ingredients"
   ]
  }
 ],
 "metadata": {
  "kernelspec": {
   "display_name": "Python 3 (ipykernel)",
   "language": "python",
   "name": "python3"
  },
  "language_info": {
   "codemirror_mode": {
    "name": "ipython",
    "version": 3
   },
   "file_extension": ".py",
   "mimetype": "text/x-python",
   "name": "python",
   "nbconvert_exporter": "python",
   "pygments_lexer": "ipython3",
   "version": "3.10.14"
  }
 },
 "nbformat": 4,
 "nbformat_minor": 5
}
