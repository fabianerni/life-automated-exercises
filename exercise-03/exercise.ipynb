{
 "cells": [
  {
   "cell_type": "markdown",
   "id": "379fd652",
   "metadata": {},
   "source": [
    "# Exercise 3\n",
    "\n",
    "Welcome to the third challenge! The goal of this exercise is to combine the two agents from exercise 1 and 2 into a multi-agent system. \n",
    "\n",
    "## Setup\n",
    "Let's start by importing the libraries that we will need."
   ]
  },
  {
   "cell_type": "code",
   "execution_count": null,
   "id": "60f954b2-f848-4a78-926d-8ed04fb2fc21",
   "metadata": {},
   "outputs": [],
   "source": [
    "import os\n",
    "import re\n",
    "from datetime import datetime\n",
    "from typing import Optional\n",
    "\n",
    "import requests\n",
    "from crewai import Agent, Crew, Task\n",
    "from crewai_tools import BaseTool, tool\n",
    "from dotenv import load_dotenv\n",
    "from gcsa.event import Event\n",
    "from gcsa.google_calendar import GoogleCalendar"
   ]
  },
  {
   "cell_type": "markdown",
   "id": "e724787c",
   "metadata": {},
   "source": [
    "Before you execute this cell, make sure to provide the environment variables `OPENAI_API_BASE`, `OPENAI_MODEL_NAME`, and `OPENAI_API_KEY` in the `.env` file."
   ]
  },
  {
   "cell_type": "code",
   "execution_count": null,
   "id": "0e3ec0b7-4874-4029-ac33-eed56bc800db",
   "metadata": {},
   "outputs": [],
   "source": [
    "load_dotenv(override=True)\n",
    "\n",
    "assert \"OPENAI_MODEL_NAME\" in os.environ, \"No model specified in .env file!\"\n",
    "print(\"Using the following LLM model:\", os.environ.get(\"OPENAI_MODEL_NAME\"))"
   ]
  },
  {
   "cell_type": "code",
   "execution_count": null,
   "id": "ffab39c2",
   "metadata": {},
   "outputs": [],
   "source": [
    "gc = GoogleCalendar(\"agents.wt24@gmail.com\", credentials_path=\"../credentials/credentials.json\")"
   ]
  },
  {
   "cell_type": "markdown",
   "id": "e47634e8",
   "metadata": {},
   "source": [
    "## Tools"
   ]
  },
  {
   "cell_type": "code",
   "execution_count": null,
   "id": "1a17dc49-d791-4050-a0d9-2e03227e3525",
   "metadata": {},
   "outputs": [],
   "source": [
    "# TODO: paste your tools from the previous two exercises here"
   ]
  },
  {
   "cell_type": "markdown",
   "id": "1c473d11",
   "metadata": {},
   "source": [
    "## Agents"
   ]
  },
  {
   "cell_type": "code",
   "execution_count": null,
   "id": "827e6687-0833-4d6e-a129-3a1fedf94fc6",
   "metadata": {},
   "outputs": [],
   "source": [
    "# TODO: paste your agents from the previous two exercises here"
   ]
  },
  {
   "cell_type": "markdown",
   "id": "c1dc217b",
   "metadata": {},
   "source": [
    "## Tasks"
   ]
  },
  {
   "cell_type": "code",
   "execution_count": null,
   "id": "4c65bb8d-44c2-4a8e-a34a-0a28f925f352",
   "metadata": {},
   "outputs": [],
   "source": [
    "# TODO: paste your tasks from the previous two exercises here"
   ]
  },
  {
   "cell_type": "markdown",
   "id": "4ad9a9fc",
   "metadata": {},
   "source": [
    "## Kicking off the Crew\n",
    "\n",
    "Inspiration for user request:\n",
    "\n",
    "- Ich wohne in Bern und muss am Mittwoch um spätestens 9 Uhr in Suurstoffi 1, 6343 Rotkreuz sein. Bitte suche mir eine entsprechende Verbindung heraus und trage diese in meinen Kalender ein."
   ]
  },
  {
   "cell_type": "code",
   "execution_count": null,
   "id": "f753b92c-170a-4d52-9119-53d1d30a79eb",
   "metadata": {},
   "outputs": [],
   "source": [
    "# TODO: Write the code to run the crew with the two agents and the two tasks"
   ]
  }
 ],
 "metadata": {
  "kernelspec": {
   "display_name": "Python 3 (ipykernel)",
   "language": "python",
   "name": "python3"
  },
  "language_info": {
   "codemirror_mode": {
    "name": "ipython",
    "version": 3
   },
   "file_extension": ".py",
   "mimetype": "text/x-python",
   "name": "python",
   "nbconvert_exporter": "python",
   "pygments_lexer": "ipython3",
   "version": "3.10.14"
  }
 },
 "nbformat": 4,
 "nbformat_minor": 5
}
